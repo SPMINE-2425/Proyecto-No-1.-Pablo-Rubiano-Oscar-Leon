{
 "cells": [
  {
   "cell_type": "code",
   "execution_count": 3,
   "metadata": {},
   "outputs": [],
   "source": [
    "import requests\n",
    "import pandas as pd\n",
    "\n",
    "# URL base de Socrata (dataset de lesiones personales y accidentes de tránsito en Colombia)\n",
    "url = \"https://www.datos.gov.co/resource/72sg-cybi.json\"\n",
    "\n",
    "# Tu App Token (opcional)\n",
    "app_token = None  # Reemplazar token o dejar como None\n",
    "\n",
    "# Configurar encabezados para la solicitud\n",
    "headers = {\n",
    "    \"X-App-Token\": app_token\n",
    "} if app_token else {}"
   ]
  },
  {
   "cell_type": "code",
   "execution_count": 12,
   "metadata": {},
   "outputs": [
    {
     "name": "stdout",
     "output_type": "stream",
     "text": [
      "Datos recibidos exitosamente.\n"
     ]
    }
   ],
   "source": [
    "# Parámetros para filtrar los datos\n",
    "params = {\n",
    "    \"$limit\": 5000,  # Limitar a 5000 resultados (cambiar según necesidades)\n",
    "}\n",
    "\n",
    "# Realizar la solicitud GET\n",
    "response = requests.get(url, headers=headers, params=params)\n",
    "\n",
    "# Verificar el estado de la respuesta\n",
    "if response.status_code == 200:\n",
    "    datos = response.json()\n",
    "    print(\"Datos recibidos exitosamente.\")\n",
    "else:\n",
    "    print(f\"Error al acceder a la API: {response.status_code}\")\n",
    "    datos = []"
   ]
  },
  {
   "cell_type": "code",
   "execution_count": 13,
   "metadata": {},
   "outputs": [
    {
     "name": "stdout",
     "output_type": "stream",
     "text": [
      "Primeras filas del DataFrame:\n"
     ]
    },
    {
     "data": {
      "text/html": [
       "<div>\n",
       "<style scoped>\n",
       "    .dataframe tbody tr th:only-of-type {\n",
       "        vertical-align: middle;\n",
       "    }\n",
       "\n",
       "    .dataframe tbody tr th {\n",
       "        vertical-align: top;\n",
       "    }\n",
       "\n",
       "    .dataframe thead th {\n",
       "        text-align: right;\n",
       "    }\n",
       "</style>\n",
       "<table border=\"1\" class=\"dataframe\">\n",
       "  <thead>\n",
       "    <tr style=\"text-align: right;\">\n",
       "      <th></th>\n",
       "      <th>departamento</th>\n",
       "      <th>municipio</th>\n",
       "      <th>codigo_dane</th>\n",
       "      <th>armas_medios</th>\n",
       "      <th>fecha_hecho</th>\n",
       "      <th>genero</th>\n",
       "      <th>grupo_etario</th>\n",
       "      <th>descripci_n_conducta</th>\n",
       "      <th>cantidad</th>\n",
       "    </tr>\n",
       "  </thead>\n",
       "  <tbody>\n",
       "    <tr>\n",
       "      <th>0</th>\n",
       "      <td>CUNDINAMARCA</td>\n",
       "      <td>BOGOTÁ D.C. (CT)</td>\n",
       "      <td>11001000</td>\n",
       "      <td>ALIMENTOS VENCIDOS</td>\n",
       "      <td>1/01/2021</td>\n",
       "      <td>FEMENINO</td>\n",
       "      <td>ADULTOS</td>\n",
       "      <td>LESIONES PERSONALES</td>\n",
       "      <td>1</td>\n",
       "    </tr>\n",
       "    <tr>\n",
       "      <th>1</th>\n",
       "      <td>AMAZONAS</td>\n",
       "      <td>LETICIA (CT)</td>\n",
       "      <td>91001000</td>\n",
       "      <td>ARMA BLANCA / CORTOPUNZANTE</td>\n",
       "      <td>1/01/2021</td>\n",
       "      <td>MASCULINO</td>\n",
       "      <td>ADULTOS</td>\n",
       "      <td>LESIONES PERSONALES</td>\n",
       "      <td>1</td>\n",
       "    </tr>\n",
       "    <tr>\n",
       "      <th>2</th>\n",
       "      <td>AMAZONAS</td>\n",
       "      <td>PUERTO NARIÑO</td>\n",
       "      <td>91540000</td>\n",
       "      <td>ARMA BLANCA / CORTOPUNZANTE</td>\n",
       "      <td>1/01/2021</td>\n",
       "      <td>MASCULINO</td>\n",
       "      <td>ADULTOS</td>\n",
       "      <td>LESIONES PERSONALES</td>\n",
       "      <td>1</td>\n",
       "    </tr>\n",
       "    <tr>\n",
       "      <th>3</th>\n",
       "      <td>ANTIOQUIA</td>\n",
       "      <td>APARTADÓ</td>\n",
       "      <td>05045000</td>\n",
       "      <td>ARMA BLANCA / CORTOPUNZANTE</td>\n",
       "      <td>1/01/2021</td>\n",
       "      <td>MASCULINO</td>\n",
       "      <td>ADULTOS</td>\n",
       "      <td>LESIONES PERSONALES</td>\n",
       "      <td>1</td>\n",
       "    </tr>\n",
       "    <tr>\n",
       "      <th>4</th>\n",
       "      <td>ANTIOQUIA</td>\n",
       "      <td>BETANIA</td>\n",
       "      <td>05091000</td>\n",
       "      <td>ARMA BLANCA / CORTOPUNZANTE</td>\n",
       "      <td>1/01/2021</td>\n",
       "      <td>MASCULINO</td>\n",
       "      <td>ADULTOS</td>\n",
       "      <td>LESIONES PERSONALES</td>\n",
       "      <td>1</td>\n",
       "    </tr>\n",
       "  </tbody>\n",
       "</table>\n",
       "</div>"
      ],
      "text/plain": [
       "   departamento         municipio codigo_dane                 armas_medios  \\\n",
       "0  CUNDINAMARCA  BOGOTÁ D.C. (CT)    11001000           ALIMENTOS VENCIDOS   \n",
       "1      AMAZONAS      LETICIA (CT)    91001000  ARMA BLANCA / CORTOPUNZANTE   \n",
       "2      AMAZONAS     PUERTO NARIÑO    91540000  ARMA BLANCA / CORTOPUNZANTE   \n",
       "3     ANTIOQUIA          APARTADÓ    05045000  ARMA BLANCA / CORTOPUNZANTE   \n",
       "4     ANTIOQUIA           BETANIA    05091000  ARMA BLANCA / CORTOPUNZANTE   \n",
       "\n",
       "  fecha_hecho     genero grupo_etario descripci_n_conducta cantidad  \n",
       "0   1/01/2021   FEMENINO      ADULTOS  LESIONES PERSONALES        1  \n",
       "1   1/01/2021  MASCULINO      ADULTOS  LESIONES PERSONALES        1  \n",
       "2   1/01/2021  MASCULINO      ADULTOS  LESIONES PERSONALES        1  \n",
       "3   1/01/2021  MASCULINO      ADULTOS  LESIONES PERSONALES        1  \n",
       "4   1/01/2021  MASCULINO      ADULTOS  LESIONES PERSONALES        1  "
      ]
     },
     "metadata": {},
     "output_type": "display_data"
    }
   ],
   "source": [
    "# Convertir los datos a un DataFrame\n",
    "if datos:\n",
    "    df = pd.DataFrame(datos)\n",
    "    print(\"Primeras filas del DataFrame:\")\n",
    "    display(df.head())\n",
    "else:\n",
    "\n",
    "    print(\"No se recibieron datos.\")"
   ]
  },
  {
   "cell_type": "markdown",
   "metadata": {},
   "source": [
    "<div align=\"center\"><b>Analisis de lesiones personales y accidentes de tránsito en Medellin-Colombia</div></b>"
   ]
  },
  {
   "cell_type": "code",
   "execution_count": 16,
   "metadata": {},
   "outputs": [
    {
     "name": "stdout",
     "output_type": "stream",
     "text": [
      "     departamento      municipio codigo_dane                 armas_medios  \\\n",
      "9       ANTIOQUIA  MEDELLÍN (CT)    05001000  ARMA BLANCA / CORTOPUNZANTE   \n",
      "129     ANTIOQUIA  MEDELLÍN (CT)    05001000                ARMA DE FUEGO   \n",
      "173     ANTIOQUIA  MEDELLÍN (CT)    05001000                 CONTUNDENTES   \n",
      "174     ANTIOQUIA  MEDELLÍN (CT)    05001000                 CONTUNDENTES   \n",
      "175     ANTIOQUIA  MEDELLÍN (CT)    05001000                 CONTUNDENTES   \n",
      "...           ...            ...         ...                          ...   \n",
      "4862    ANTIOQUIA  MEDELLÍN (CT)    05001000  ARMA BLANCA / CORTOPUNZANTE   \n",
      "4933    ANTIOQUIA  MEDELLÍN (CT)    05001000          SIN EMPLEO DE ARMAS   \n",
      "4967    ANTIOQUIA  MEDELLÍN (CT)    05001000          SIN EMPLEO DE ARMAS   \n",
      "4971    ANTIOQUIA  MEDELLÍN (CT)    05001000                     VEHICULO   \n",
      "4987    ANTIOQUIA  MEDELLÍN (CT)    05001000  ARMA BLANCA / CORTOPUNZANTE   \n",
      "\n",
      "     fecha_hecho     genero  grupo_etario  \\\n",
      "9      1/01/2021  MASCULINO       ADULTOS   \n",
      "129    1/01/2021  MASCULINO       ADULTOS   \n",
      "173    1/01/2021   FEMENINO  ADOLESCENTES   \n",
      "174    1/01/2021   FEMENINO       ADULTOS   \n",
      "175    1/01/2021  MASCULINO       ADULTOS   \n",
      "...          ...        ...           ...   \n",
      "4862  26/01/2021   FEMENINO       ADULTOS   \n",
      "4933  26/01/2021  MASCULINO       ADULTOS   \n",
      "4967  26/01/2021  MASCULINO       ADULTOS   \n",
      "4971  26/01/2021  MASCULINO       ADULTOS   \n",
      "4987  27/01/2021  MASCULINO       ADULTOS   \n",
      "\n",
      "                                descripci_n_conducta cantidad  \n",
      "9                                LESIONES PERSONALES        1  \n",
      "129                              LESIONES PERSONALES        1  \n",
      "173                              LESIONES PERSONALES        1  \n",
      "174                              LESIONES PERSONALES       13  \n",
      "175                              LESIONES PERSONALES       13  \n",
      "...                                              ...      ...  \n",
      "4862                             LESIONES PERSONALES        1  \n",
      "4933                             LESIONES PERSONALES        1  \n",
      "4967  LESIONES CULPOSAS ( EN ACCIDENTE DE TRANSITO )        1  \n",
      "4971  LESIONES CULPOSAS ( EN ACCIDENTE DE TRANSITO )        1  \n",
      "4987                             LESIONES PERSONALES        2  \n",
      "\n",
      "[135 rows x 9 columns]\n"
     ]
    }
   ],
   "source": [
    "df_medellin = df[df['municipio'].str.contains('MEDELLÍN', case=False, na=False)]\n",
    "\n",
    "print(df_medellin)\n"
   ]
  },
  {
   "cell_type": "code",
   "execution_count": 20,
   "metadata": {},
   "outputs": [
    {
     "name": "stdout",
     "output_type": "stream",
     "text": [
      "                  armas_medios  conteo\n",
      "3                 CONTUNDENTES      51\n",
      "8          SIN EMPLEO DE ARMAS      38\n",
      "1  ARMA BLANCA / CORTOPUNZANTE      21\n",
      "9                     VEHICULO      10\n",
      "5                         MOTO       6\n",
      "2                ARMA DE FUEGO       4\n",
      "6                 NO REPORTADO       2\n",
      "0                        ACIDO       1\n",
      "4                      JERINGA       1\n",
      "7                        PERRO       1\n"
     ]
    }
   ],
   "source": [
    "df_agrupado = df_medellin.groupby('armas_medios').size().reset_index(name='conteo')\n",
    "\n",
    "# Ordenar de mayor a menor según 'conteo'\n",
    "df_agrupado = df_agrupado.sort_values(by='conteo', ascending=False)\n",
    "\n",
    "print(df_agrupado)"
   ]
  },
  {
   "cell_type": "code",
   "execution_count": 21,
   "metadata": {},
   "outputs": [
    {
     "name": "stdout",
     "output_type": "stream",
     "text": [
      "      genero  conteo\n",
      "1  MASCULINO      80\n",
      "0   FEMENINO      55\n"
     ]
    }
   ],
   "source": [
    "df_agrupado = df_medellin.groupby('genero').size().reset_index(name='conteo')\n",
    "\n",
    "# Ordenar de mayor a menor según 'conteo'\n",
    "df_agrupado = df_agrupado.sort_values(by='conteo', ascending=False)\n",
    "\n",
    "print(df_agrupado)"
   ]
  },
  {
   "cell_type": "code",
   "execution_count": 22,
   "metadata": {},
   "outputs": [
    {
     "name": "stdout",
     "output_type": "stream",
     "text": [
      "   grupo_etario  conteo\n",
      "1       ADULTOS     125\n",
      "0  ADOLESCENTES       9\n",
      "2       MENORES       1\n"
     ]
    }
   ],
   "source": [
    "df_agrupado = df_medellin.groupby('grupo_etario').size().reset_index(name='conteo')\n",
    "\n",
    "# Ordenar de mayor a menor según 'conteo'\n",
    "df_agrupado = df_agrupado.sort_values(by='conteo', ascending=False)\n",
    "\n",
    "print(df_agrupado)"
   ]
  },
  {
   "cell_type": "code",
   "execution_count": 23,
   "metadata": {},
   "outputs": [
    {
     "name": "stdout",
     "output_type": "stream",
     "text": [
      "   fecha_hecho  conteo\n",
      "7   15/01/2021      11\n",
      "15  22/01/2021      10\n",
      "1    1/01/2021       8\n",
      "8   16/01/2021       8\n",
      "24   6/01/2021       7\n",
      "14  21/01/2021       6\n",
      "16  23/01/2021       6\n",
      "10  18/01/2021       6\n",
      "6   14/01/2021       6\n",
      "9   17/01/2021       5\n",
      "21   3/01/2021       5\n",
      "11  19/01/2021       5\n",
      "2   10/01/2021       5\n",
      "25   7/01/2021       4\n",
      "13  20/01/2021       4\n",
      "4   12/01/2021       4\n",
      "3   11/01/2021       4\n",
      "23   5/01/2021       4\n",
      "18  25/01/2021       4\n",
      "19  26/01/2021       4\n",
      "22   4/01/2021       4\n",
      "27   9/01/2021       3\n",
      "17  24/01/2021       3\n",
      "5   13/01/2021       3\n",
      "12   2/01/2021       2\n",
      "26   8/01/2021       2\n",
      "20  27/01/2021       1\n",
      "0   05/01/2024       1\n"
     ]
    }
   ],
   "source": [
    "df_agrupado = df_medellin.groupby('fecha_hecho').size().reset_index(name='conteo')\n",
    "\n",
    "# Ordenar de mayor a menor según 'conteo'\n",
    "df_agrupado = df_agrupado.sort_values(by='conteo', ascending=False)\n",
    "\n",
    "print(df_agrupado)"
   ]
  }
 ],
 "metadata": {
  "kernelspec": {
   "display_name": "proyecto1",
   "language": "python",
   "name": "python3"
  },
  "language_info": {
   "codemirror_mode": {
    "name": "ipython",
    "version": 3
   },
   "file_extension": ".py",
   "mimetype": "text/x-python",
   "name": "python",
   "nbconvert_exporter": "python",
   "pygments_lexer": "ipython3",
   "version": "3.11.11"
  }
 },
 "nbformat": 4,
 "nbformat_minor": 2
}
